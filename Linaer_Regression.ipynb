{
  "nbformat": 4,
  "nbformat_minor": 0,
  "metadata": {
    "colab": {
      "provenance": []
    },
    "kernelspec": {
      "name": "python3",
      "display_name": "Python 3"
    },
    "language_info": {
      "name": "python"
    }
  },
  "cells": [
    {
      "cell_type": "code",
      "execution_count": null,
      "metadata": {
        "id": "YONzREra13x4"
      },
      "outputs": [],
      "source": [
        "import numpy as np\n",
        "import pandas as pd\n",
        "from sklearn.model_selection import train_test_split\n",
        "from sklearn.linear_model import LinearRegression\n"
      ]
    },
    {
      "cell_type": "code",
      "source": [
        "df = pd.read_csv('FishData.csv')\n",
        "print(df.head())"
      ],
      "metadata": {
        "colab": {
          "base_uri": "https://localhost:8080/"
        },
        "id": "L-OCF-2Z67Va",
        "outputId": "d2685577-d538-444b-ead2-852ff85fb8e8"
      },
      "execution_count": null,
      "outputs": [
        {
          "output_type": "stream",
          "name": "stdout",
          "text": [
            "  Species  Weight  Length1  Length2  Length3   Height   Width\n",
            "0   Bream   242.0     23.2     25.4     30.0  11.5200  4.0200\n",
            "1   Bream   290.0     24.0     26.3     31.2  12.4800  4.3056\n",
            "2   Bream   340.0     23.9     26.5     31.1  12.3778  4.6961\n",
            "3   Bream   363.0     26.3     29.0     33.5  12.7300  4.4555\n",
            "4   Bream   430.0     26.5     29.0     34.0  12.4440  5.1340\n"
          ]
        }
      ]
    },
    {
      "cell_type": "code",
      "source": [
        "print(df.shape)"
      ],
      "metadata": {
        "colab": {
          "base_uri": "https://localhost:8080/"
        },
        "id": "cZqN9VfB7Fo6",
        "outputId": "aeee7332-2300-466a-8606-e15f0d2644c7"
      },
      "execution_count": null,
      "outputs": [
        {
          "output_type": "stream",
          "name": "stdout",
          "text": [
            "(159, 7)\n"
          ]
        }
      ]
    },
    {
      "cell_type": "code",
      "source": [
        "print(df.isnull().sum())"
      ],
      "metadata": {
        "colab": {
          "base_uri": "https://localhost:8080/"
        },
        "id": "-I_MPU2s7pqa",
        "outputId": "1d0717de-2466-4ea7-bca1-fa9266327988"
      },
      "execution_count": null,
      "outputs": [
        {
          "output_type": "stream",
          "name": "stdout",
          "text": [
            "Species    0\n",
            "Weight     0\n",
            "Length1    0\n",
            "Length2    0\n",
            "Length3    0\n",
            "Height     0\n",
            "Width      0\n",
            "dtype: int64\n"
          ]
        }
      ]
    },
    {
      "cell_type": "code",
      "source": [
        "print(df.describe())"
      ],
      "metadata": {
        "colab": {
          "base_uri": "https://localhost:8080/"
        },
        "id": "fwyzf4_57sQx",
        "outputId": "6e5aa4d6-bd5c-4714-d7f5-1f8d6760590d"
      },
      "execution_count": null,
      "outputs": [
        {
          "output_type": "stream",
          "name": "stdout",
          "text": [
            "            Weight     Length1     Length2     Length3      Height       Width\n",
            "count   159.000000  159.000000  159.000000  159.000000  159.000000  159.000000\n",
            "mean    398.326415   26.247170   28.415723   31.227044    8.970994    4.417486\n",
            "std     357.978317    9.996441   10.716328   11.610246    4.286208    1.685804\n",
            "min       0.000000    7.500000    8.400000    8.800000    1.728400    1.047600\n",
            "25%     120.000000   19.050000   21.000000   23.150000    5.944800    3.385650\n",
            "50%     273.000000   25.200000   27.300000   29.400000    7.786000    4.248500\n",
            "75%     650.000000   32.700000   35.500000   39.650000   12.365900    5.584500\n",
            "max    1650.000000   59.000000   63.400000   68.000000   18.957000    8.142000\n"
          ]
        }
      ]
    },
    {
      "cell_type": "code",
      "source": [
        "df['Species'].value_counts()"
      ],
      "metadata": {
        "colab": {
          "base_uri": "https://localhost:8080/"
        },
        "id": "L0ohjoB09IBK",
        "outputId": "4d39fc41-daed-4e6f-fb68-37834bb68f05"
      },
      "execution_count": null,
      "outputs": [
        {
          "output_type": "execute_result",
          "data": {
            "text/plain": [
              "Perch        56\n",
              "Bream        35\n",
              "Roach        20\n",
              "Pike         17\n",
              "Smelt        14\n",
              "Parkki       11\n",
              "Whitefish     6\n",
              "Name: Species, dtype: int64"
            ]
          },
          "metadata": {},
          "execution_count": 26
        }
      ]
    },
    {
      "cell_type": "code",
      "source": [
        "df1 = df.drop(['Length1','Length2','Length3'], axis=1)"
      ],
      "metadata": {
        "id": "aeCVE6EZ-86T"
      },
      "execution_count": null,
      "outputs": []
    },
    {
      "cell_type": "code",
      "source": [
        "df2= df1.drop('Species', axis=1)"
      ],
      "metadata": {
        "id": "q0w_-633AN78"
      },
      "execution_count": null,
      "outputs": []
    },
    {
      "cell_type": "code",
      "source": [
        "print(df2.head())"
      ],
      "metadata": {
        "colab": {
          "base_uri": "https://localhost:8080/"
        },
        "id": "ZKn_18cKAjZi",
        "outputId": "b6c556fa-b8c5-4db4-e946-0ac09a975ef9"
      },
      "execution_count": null,
      "outputs": [
        {
          "output_type": "stream",
          "name": "stdout",
          "text": [
            "   Weight   Height   Width\n",
            "0   242.0  11.5200  4.0200\n",
            "1   290.0  12.4800  4.3056\n",
            "2   340.0  12.3778  4.6961\n",
            "3   363.0  12.7300  4.4555\n",
            "4   430.0  12.4440  5.1340\n"
          ]
        }
      ]
    },
    {
      "cell_type": "code",
      "source": [
        "X ,Y = df2.drop('Weight', axis=1), df2['Weight'].values"
      ],
      "metadata": {
        "id": "ob0p3pLg9PQ5"
      },
      "execution_count": null,
      "outputs": []
    },
    {
      "cell_type": "code",
      "source": [
        "X_train, X_test, Y_train, Y_test = train_test_split(X, Y, random_state=42, train_size=0.7)"
      ],
      "metadata": {
        "id": "N-m0bttN9sIM"
      },
      "execution_count": null,
      "outputs": []
    },
    {
      "cell_type": "code",
      "source": [
        "reg=LinearRegression()\n",
        "reg.fit(X_train, Y_train)\n"
      ],
      "metadata": {
        "colab": {
          "base_uri": "https://localhost:8080/"
        },
        "id": "XUmPI62I-F_7",
        "outputId": "aa42236f-18d7-4f0b-8d05-b6f0e2878c1b"
      },
      "execution_count": null,
      "outputs": [
        {
          "output_type": "execute_result",
          "data": {
            "text/plain": [
              "LinearRegression()"
            ]
          },
          "metadata": {},
          "execution_count": 32
        }
      ]
    },
    {
      "cell_type": "code",
      "source": [
        "print(reg.coef_)"
      ],
      "metadata": {
        "colab": {
          "base_uri": "https://localhost:8080/"
        },
        "id": "7RL4SMweDNYj",
        "outputId": "162778dc-0c78-48d4-ff13-5267037563c6"
      },
      "execution_count": null,
      "outputs": [
        {
          "output_type": "stream",
          "name": "stdout",
          "text": [
            "[  0.5069445  189.80590285]\n"
          ]
        }
      ]
    },
    {
      "cell_type": "code",
      "source": [
        "r2_score = reg.score(X_test, Y_test)\n",
        "print(r2_score)"
      ],
      "metadata": {
        "colab": {
          "base_uri": "https://localhost:8080/"
        },
        "id": "TSeW5vGFBCT6",
        "outputId": "04e304ab-dc70-4c8a-de2b-15e712737375"
      },
      "execution_count": null,
      "outputs": [
        {
          "output_type": "stream",
          "name": "stdout",
          "text": [
            "0.8420412366115981\n"
          ]
        }
      ]
    },
    {
      "cell_type": "code",
      "source": [
        "reg.predict([[11, 4]])"
      ],
      "metadata": {
        "colab": {
          "base_uri": "https://localhost:8080/"
        },
        "id": "0Oj4K0GDC1sr",
        "outputId": "4f8c048d-bbde-4078-9f66-7d949616d156"
      },
      "execution_count": null,
      "outputs": [
        {
          "output_type": "stream",
          "name": "stderr",
          "text": [
            "/usr/local/lib/python3.8/dist-packages/sklearn/base.py:450: UserWarning: X does not have valid feature names, but LinearRegression was fitted with feature names\n",
            "  warnings.warn(\n"
          ]
        },
        {
          "output_type": "execute_result",
          "data": {
            "text/plain": [
              "array([309.3956591])"
            ]
          },
          "metadata": {},
          "execution_count": 35
        }
      ]
    },
    {
      "cell_type": "code",
      "source": [
        "Y_prediction=reg.predict(X_test)"
      ],
      "metadata": {
        "id": "QnN1JW-sE28V"
      },
      "execution_count": null,
      "outputs": []
    },
    {
      "cell_type": "code",
      "source": [
        "from sklearn.metrics import r2_score\n",
        "r2_score(Y_test,Y_prediction)"
      ],
      "metadata": {
        "colab": {
          "base_uri": "https://localhost:8080/"
        },
        "id": "7wPc88JTE977",
        "outputId": "b094a1ee-1d9c-45d9-d90b-5ed1f3b2db90"
      },
      "execution_count": null,
      "outputs": [
        {
          "output_type": "execute_result",
          "data": {
            "text/plain": [
              "0.8420412366115981"
            ]
          },
          "metadata": {},
          "execution_count": 37
        }
      ]
    },
    {
      "cell_type": "code",
      "source": [
        "input_data=(11.5200, 4.0200)\n",
        "\n",
        "# Change input data to numpy array\n",
        "input_data_as_numpy_array = np.asarray(input_data)\n",
        "\n",
        "# reshape the numpy array as we are predicting for one data point\n",
        "input_data_reshaped = input_data_as_numpy_array.reshape(1,-1)\n",
        "\n",
        "prediction = reg.predict(input_data_reshaped)\n",
        "\n",
        "print(prediction)"
      ],
      "metadata": {
        "colab": {
          "base_uri": "https://localhost:8080/"
        },
        "id": "y-t38_702PLr",
        "outputId": "e6fcbf80-2089-4432-c61d-99d1160dc6e9"
      },
      "execution_count": null,
      "outputs": [
        {
          "output_type": "stream",
          "name": "stdout",
          "text": [
            "[313.4553883]\n"
          ]
        },
        {
          "output_type": "stream",
          "name": "stderr",
          "text": [
            "/usr/local/lib/python3.8/dist-packages/sklearn/base.py:450: UserWarning: X does not have valid feature names, but LinearRegression was fitted with feature names\n",
            "  warnings.warn(\n"
          ]
        }
      ]
    }
  ]
}