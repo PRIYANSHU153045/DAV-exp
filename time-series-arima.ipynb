{
  "cells": [
    {
      "cell_type": "code",
      "execution_count": null,
      "metadata": {
        "_cell_guid": "b1076dfc-b9ad-4769-8c92-a6c4dae69d19",
        "_uuid": "8f2839f25d086af736a60e9eeb907d3b93b6e0e5",
        "execution": {
          "iopub.execute_input": "2023-02-27T06:07:35.407208Z",
          "iopub.status.busy": "2023-02-27T06:07:35.406813Z",
          "iopub.status.idle": "2023-02-27T06:07:35.417606Z",
          "shell.execute_reply": "2023-02-27T06:07:35.415581Z",
          "shell.execute_reply.started": "2023-02-27T06:07:35.407175Z"
        },
        "id": "vUPWXH5GggDj",
        "outputId": "713d6ed5-5f4d-474e-bcb3-231f2c481680",
        "trusted": true
      },
      "outputs": [
        {
          "name": "stdout",
          "output_type": "stream",
          "text": [
            "/kaggle/input/time-series-forecasting-with-yahoo-stock-price/yahoo_stock.csv\n"
          ]
        }
      ],
      "source": [
        "# This Python 3 environment comes with many helpful analytics libraries installed\n",
        "# It is defined by the kaggle/python Docker image: https://github.com/kaggle/docker-python\n",
        "# For example, here's several helpful packages to load\n",
        "\n",
        "import numpy as np # linear algebra\n",
        "import pandas as pd # data processing, CSV file I/O (e.g. pd.read_csv)\n",
        "\n",
        "# Input data files are available in the read-only \"../input/\" directory\n",
        "# For example, running this (by clicking run or pressing Shift+Enter) will list all files under the input directory\n",
        "\n",
        "import os\n",
        "for dirname, _, filenames in os.walk('/kaggle/input'):\n",
        "    for filename in filenames:\n",
        "        print(os.path.join(dirname, filename))\n",
        "\n",
        "# You can write up to 20GB to the current directory (/kaggle/working/) that gets preserved as output when you create a version using \"Save & Run All\" \n",
        "# You can also write temporary files to /kaggle/temp/, but they won't be saved outside of the current session"
      ]
    },
    {
      "cell_type": "code",
      "execution_count": null,
      "metadata": {
        "execution": {
          "iopub.execute_input": "2023-02-27T06:07:35.422257Z",
          "iopub.status.busy": "2023-02-27T06:07:35.420350Z",
          "iopub.status.idle": "2023-02-27T06:07:35.436938Z",
          "shell.execute_reply": "2023-02-27T06:07:35.436007Z",
          "shell.execute_reply.started": "2023-02-27T06:07:35.422190Z"
        },
        "id": "s9zyiASKggDl",
        "trusted": true
      },
      "outputs": [],
      "source": [
        "import pandas as pd\n",
        "import matplotlib.pyplot as plt\n",
        "import seaborn as sns"
      ]
    },
    {
      "cell_type": "markdown",
      "metadata": {
        "id": "iNevfrx2ggDl"
      },
      "source": [
        "# EDA"
      ]
    },
    {
      "cell_type": "code",
      "execution_count": null,
      "metadata": {
        "execution": {
          "iopub.execute_input": "2023-02-27T06:07:35.438577Z",
          "iopub.status.busy": "2023-02-27T06:07:35.438225Z",
          "iopub.status.idle": "2023-02-27T06:07:35.467451Z",
          "shell.execute_reply": "2023-02-27T06:07:35.465974Z",
          "shell.execute_reply.started": "2023-02-27T06:07:35.438545Z"
        },
        "id": "QnlpkBIDggDm",
        "outputId": "6d0b2cd0-15fb-44ed-affd-609047644017",
        "trusted": true
      },
      "outputs": [
        {
          "data": {
            "text/html": [
              "<div>\n",
              "<style scoped>\n",
              "    .dataframe tbody tr th:only-of-type {\n",
              "        vertical-align: middle;\n",
              "    }\n",
              "\n",
              "    .dataframe tbody tr th {\n",
              "        vertical-align: top;\n",
              "    }\n",
              "\n",
              "    .dataframe thead th {\n",
              "        text-align: right;\n",
              "    }\n",
              "</style>\n",
              "<table border=\"1\" class=\"dataframe\">\n",
              "  <thead>\n",
              "    <tr style=\"text-align: right;\">\n",
              "      <th></th>\n",
              "      <th>Date</th>\n",
              "      <th>High</th>\n",
              "      <th>Low</th>\n",
              "      <th>Open</th>\n",
              "      <th>Close</th>\n",
              "      <th>Volume</th>\n",
              "      <th>Adj Close</th>\n",
              "    </tr>\n",
              "  </thead>\n",
              "  <tbody>\n",
              "    <tr>\n",
              "      <th>917</th>\n",
              "      <td>2018-05-28</td>\n",
              "      <td>2727.360107</td>\n",
              "      <td>2714.989990</td>\n",
              "      <td>2723.600098</td>\n",
              "      <td>2721.330078</td>\n",
              "      <td>2.995260e+09</td>\n",
              "      <td>2721.330078</td>\n",
              "    </tr>\n",
              "    <tr>\n",
              "      <th>1411</th>\n",
              "      <td>2019-10-04</td>\n",
              "      <td>2953.739990</td>\n",
              "      <td>2918.560059</td>\n",
              "      <td>2918.560059</td>\n",
              "      <td>2952.010010</td>\n",
              "      <td>2.990830e+09</td>\n",
              "      <td>2952.010010</td>\n",
              "    </tr>\n",
              "    <tr>\n",
              "      <th>823</th>\n",
              "      <td>2018-02-23</td>\n",
              "      <td>2747.760010</td>\n",
              "      <td>2713.739990</td>\n",
              "      <td>2715.800049</td>\n",
              "      <td>2747.300049</td>\n",
              "      <td>3.189190e+09</td>\n",
              "      <td>2747.300049</td>\n",
              "    </tr>\n",
              "    <tr>\n",
              "      <th>221</th>\n",
              "      <td>2016-07-01</td>\n",
              "      <td>2108.709961</td>\n",
              "      <td>2097.899902</td>\n",
              "      <td>2099.340088</td>\n",
              "      <td>2102.949951</td>\n",
              "      <td>3.458890e+09</td>\n",
              "      <td>2102.949951</td>\n",
              "    </tr>\n",
              "    <tr>\n",
              "      <th>1778</th>\n",
              "      <td>2020-10-05</td>\n",
              "      <td>3409.570068</td>\n",
              "      <td>3367.270020</td>\n",
              "      <td>3367.270020</td>\n",
              "      <td>3408.600098</td>\n",
              "      <td>3.686920e+09</td>\n",
              "      <td>3408.600098</td>\n",
              "    </tr>\n",
              "    <tr>\n",
              "      <th>1531</th>\n",
              "      <td>2020-02-01</td>\n",
              "      <td>3282.330078</td>\n",
              "      <td>3214.679932</td>\n",
              "      <td>3282.330078</td>\n",
              "      <td>3225.520020</td>\n",
              "      <td>4.527830e+09</td>\n",
              "      <td>3225.520020</td>\n",
              "    </tr>\n",
              "    <tr>\n",
              "      <th>339</th>\n",
              "      <td>2016-10-27</td>\n",
              "      <td>2147.129883</td>\n",
              "      <td>2132.520020</td>\n",
              "      <td>2144.060059</td>\n",
              "      <td>2133.040039</td>\n",
              "      <td>4.204830e+09</td>\n",
              "      <td>2133.040039</td>\n",
              "    </tr>\n",
              "    <tr>\n",
              "      <th>690</th>\n",
              "      <td>2017-10-13</td>\n",
              "      <td>2557.649902</td>\n",
              "      <td>2552.090088</td>\n",
              "      <td>2555.659912</td>\n",
              "      <td>2553.169922</td>\n",
              "      <td>3.149440e+09</td>\n",
              "      <td>2553.169922</td>\n",
              "    </tr>\n",
              "    <tr>\n",
              "      <th>1122</th>\n",
              "      <td>2018-12-19</td>\n",
              "      <td>2585.290039</td>\n",
              "      <td>2488.959961</td>\n",
              "      <td>2547.050049</td>\n",
              "      <td>2506.959961</td>\n",
              "      <td>5.127940e+09</td>\n",
              "      <td>2506.959961</td>\n",
              "    </tr>\n",
              "    <tr>\n",
              "      <th>126</th>\n",
              "      <td>2016-03-28</td>\n",
              "      <td>2042.670044</td>\n",
              "      <td>2031.959961</td>\n",
              "      <td>2037.890015</td>\n",
              "      <td>2037.050049</td>\n",
              "      <td>2.809090e+09</td>\n",
              "      <td>2037.050049</td>\n",
              "    </tr>\n",
              "  </tbody>\n",
              "</table>\n",
              "</div>"
            ],
            "text/plain": [
              "            Date         High          Low         Open        Close  \\\n",
              "917   2018-05-28  2727.360107  2714.989990  2723.600098  2721.330078   \n",
              "1411  2019-10-04  2953.739990  2918.560059  2918.560059  2952.010010   \n",
              "823   2018-02-23  2747.760010  2713.739990  2715.800049  2747.300049   \n",
              "221   2016-07-01  2108.709961  2097.899902  2099.340088  2102.949951   \n",
              "1778  2020-10-05  3409.570068  3367.270020  3367.270020  3408.600098   \n",
              "1531  2020-02-01  3282.330078  3214.679932  3282.330078  3225.520020   \n",
              "339   2016-10-27  2147.129883  2132.520020  2144.060059  2133.040039   \n",
              "690   2017-10-13  2557.649902  2552.090088  2555.659912  2553.169922   \n",
              "1122  2018-12-19  2585.290039  2488.959961  2547.050049  2506.959961   \n",
              "126   2016-03-28  2042.670044  2031.959961  2037.890015  2037.050049   \n",
              "\n",
              "            Volume    Adj Close  \n",
              "917   2.995260e+09  2721.330078  \n",
              "1411  2.990830e+09  2952.010010  \n",
              "823   3.189190e+09  2747.300049  \n",
              "221   3.458890e+09  2102.949951  \n",
              "1778  3.686920e+09  3408.600098  \n",
              "1531  4.527830e+09  3225.520020  \n",
              "339   4.204830e+09  2133.040039  \n",
              "690   3.149440e+09  2553.169922  \n",
              "1122  5.127940e+09  2506.959961  \n",
              "126   2.809090e+09  2037.050049  "
            ]
          },
          "execution_count": 75,
          "metadata": {},
          "output_type": "execute_result"
        }
      ],
      "source": [
        "dataset = pd.read_csv('/kaggle/input/time-series-forecasting-with-yahoo-stock-price/yahoo_stock.csv')\n",
        "dataset.sample(10)"
      ]
    },
    {
      "cell_type": "code",
      "execution_count": null,
      "metadata": {
        "execution": {
          "iopub.execute_input": "2023-02-27T06:07:35.470286Z",
          "iopub.status.busy": "2023-02-27T06:07:35.469884Z",
          "iopub.status.idle": "2023-02-27T06:07:35.479760Z",
          "shell.execute_reply": "2023-02-27T06:07:35.478063Z",
          "shell.execute_reply.started": "2023-02-27T06:07:35.470248Z"
        },
        "id": "nr4loZixggDm",
        "trusted": true
      },
      "outputs": [],
      "source": [
        "dataset['Date']  = pd.to_datetime(dataset['Date'])"
      ]
    },
    {
      "cell_type": "code",
      "execution_count": null,
      "metadata": {
        "execution": {
          "iopub.execute_input": "2023-02-27T06:07:35.484371Z",
          "iopub.status.busy": "2023-02-27T06:07:35.483969Z",
          "iopub.status.idle": "2023-02-27T06:07:35.515614Z",
          "shell.execute_reply": "2023-02-27T06:07:35.514121Z",
          "shell.execute_reply.started": "2023-02-27T06:07:35.484337Z"
        },
        "id": "lblvDyfMggDm",
        "outputId": "becea0d0-5168-4cab-840a-cd8c034569e5",
        "trusted": true
      },
      "outputs": [
        {
          "data": {
            "text/html": [
              "<div>\n",
              "<style scoped>\n",
              "    .dataframe tbody tr th:only-of-type {\n",
              "        vertical-align: middle;\n",
              "    }\n",
              "\n",
              "    .dataframe tbody tr th {\n",
              "        vertical-align: top;\n",
              "    }\n",
              "\n",
              "    .dataframe thead th {\n",
              "        text-align: right;\n",
              "    }\n",
              "</style>\n",
              "<table border=\"1\" class=\"dataframe\">\n",
              "  <thead>\n",
              "    <tr style=\"text-align: right;\">\n",
              "      <th></th>\n",
              "      <th>High</th>\n",
              "      <th>Low</th>\n",
              "      <th>Open</th>\n",
              "      <th>Close</th>\n",
              "      <th>Volume</th>\n",
              "      <th>Adj Close</th>\n",
              "    </tr>\n",
              "  </thead>\n",
              "  <tbody>\n",
              "    <tr>\n",
              "      <th>count</th>\n",
              "      <td>1825.000000</td>\n",
              "      <td>1825.000000</td>\n",
              "      <td>1825.000000</td>\n",
              "      <td>1825.000000</td>\n",
              "      <td>1.825000e+03</td>\n",
              "      <td>1825.000000</td>\n",
              "    </tr>\n",
              "    <tr>\n",
              "      <th>mean</th>\n",
              "      <td>2660.718673</td>\n",
              "      <td>2632.817580</td>\n",
              "      <td>2647.704751</td>\n",
              "      <td>2647.856284</td>\n",
              "      <td>3.869627e+09</td>\n",
              "      <td>2647.856284</td>\n",
              "    </tr>\n",
              "    <tr>\n",
              "      <th>std</th>\n",
              "      <td>409.680853</td>\n",
              "      <td>404.310068</td>\n",
              "      <td>407.169994</td>\n",
              "      <td>407.301177</td>\n",
              "      <td>1.087593e+09</td>\n",
              "      <td>407.301177</td>\n",
              "    </tr>\n",
              "    <tr>\n",
              "      <th>min</th>\n",
              "      <td>1847.000000</td>\n",
              "      <td>1810.099976</td>\n",
              "      <td>1833.400024</td>\n",
              "      <td>1829.079956</td>\n",
              "      <td>1.296540e+09</td>\n",
              "      <td>1829.079956</td>\n",
              "    </tr>\n",
              "    <tr>\n",
              "      <th>25%</th>\n",
              "      <td>2348.350098</td>\n",
              "      <td>2322.250000</td>\n",
              "      <td>2341.979980</td>\n",
              "      <td>2328.949951</td>\n",
              "      <td>3.257950e+09</td>\n",
              "      <td>2328.949951</td>\n",
              "    </tr>\n",
              "    <tr>\n",
              "      <th>50%</th>\n",
              "      <td>2696.250000</td>\n",
              "      <td>2667.840088</td>\n",
              "      <td>2685.489990</td>\n",
              "      <td>2683.340088</td>\n",
              "      <td>3.609740e+09</td>\n",
              "      <td>2683.340088</td>\n",
              "    </tr>\n",
              "    <tr>\n",
              "      <th>75%</th>\n",
              "      <td>2930.790039</td>\n",
              "      <td>2900.709961</td>\n",
              "      <td>2913.860107</td>\n",
              "      <td>2917.520020</td>\n",
              "      <td>4.142850e+09</td>\n",
              "      <td>2917.520020</td>\n",
              "    </tr>\n",
              "    <tr>\n",
              "      <th>max</th>\n",
              "      <td>3645.989990</td>\n",
              "      <td>3600.159912</td>\n",
              "      <td>3612.090088</td>\n",
              "      <td>3626.909912</td>\n",
              "      <td>9.044690e+09</td>\n",
              "      <td>3626.909912</td>\n",
              "    </tr>\n",
              "  </tbody>\n",
              "</table>\n",
              "</div>"
            ],
            "text/plain": [
              "              High          Low         Open        Close        Volume  \\\n",
              "count  1825.000000  1825.000000  1825.000000  1825.000000  1.825000e+03   \n",
              "mean   2660.718673  2632.817580  2647.704751  2647.856284  3.869627e+09   \n",
              "std     409.680853   404.310068   407.169994   407.301177  1.087593e+09   \n",
              "min    1847.000000  1810.099976  1833.400024  1829.079956  1.296540e+09   \n",
              "25%    2348.350098  2322.250000  2341.979980  2328.949951  3.257950e+09   \n",
              "50%    2696.250000  2667.840088  2685.489990  2683.340088  3.609740e+09   \n",
              "75%    2930.790039  2900.709961  2913.860107  2917.520020  4.142850e+09   \n",
              "max    3645.989990  3600.159912  3612.090088  3626.909912  9.044690e+09   \n",
              "\n",
              "         Adj Close  \n",
              "count  1825.000000  \n",
              "mean   2647.856284  \n",
              "std     407.301177  \n",
              "min    1829.079956  \n",
              "25%    2328.949951  \n",
              "50%    2683.340088  \n",
              "75%    2917.520020  \n",
              "max    3626.909912  "
            ]
          },
          "execution_count": 77,
          "metadata": {},
          "output_type": "execute_result"
        }
      ],
      "source": [
        "dataset.describe()"
      ]
    },
    {
      "cell_type": "code",
      "execution_count": null,
      "metadata": {
        "execution": {
          "iopub.execute_input": "2023-02-27T06:07:35.516982Z",
          "iopub.status.busy": "2023-02-27T06:07:35.516652Z",
          "iopub.status.idle": "2023-02-27T06:07:35.723831Z",
          "shell.execute_reply": "2023-02-27T06:07:35.722024Z",
          "shell.execute_reply.started": "2023-02-27T06:07:35.516956Z"
        },
        "id": "qWsODbEeggDm",
        "outputId": "4fd055d3-8fc9-4af2-a12c-76ad36987a13",
        "trusted": true
      },
      "outputs": [
        {
          "data": {
            "text/plain": [
              "<AxesSubplot:>"
            ]
          },
          "execution_count": 78,
          "metadata": {},
          "output_type": "execute_result"
        },
        {
          "data": {
            "image/png": "[encoded data removed]",
            "text/plain": [
              "<Figure size 432x288 with 2 Axes>"
            ]
          },
          "metadata": {
            "needs_background": "light"
          },
          "output_type": "display_data"
        }
      ],
      "source": [
        "sns.heatmap(dataset.corr())"
      ]
    },
    {
      "cell_type": "code",
      "execution_count": null,
      "metadata": {
        "execution": {
          "iopub.execute_input": "2023-02-27T06:07:35.726058Z",
          "iopub.status.busy": "2023-02-27T06:07:35.725690Z",
          "iopub.status.idle": "2023-02-27T06:07:35.735091Z",
          "shell.execute_reply": "2023-02-27T06:07:35.733503Z",
          "shell.execute_reply.started": "2023-02-27T06:07:35.726023Z"
        },
        "id": "b_4bK0ipggDn",
        "outputId": "5bef9b47-b141-4e3a-a64b-186516209028",
        "trusted": true
      },
      "outputs": [
        {
          "data": {
            "text/plain": [
              "Index(['Date', 'High', 'Low', 'Open', 'Close', 'Volume', 'Adj Close'], dtype='object')"
            ]
          },
          "execution_count": 79,
          "metadata": {},
          "output_type": "execute_result"
        }
      ],
      "source": [
        "dataset.columns"
      ]
    },
    {
      "cell_type": "code",
      "execution_count": null,
      "metadata": {
        "execution": {
          "iopub.execute_input": "2023-02-27T06:07:35.737006Z",
          "iopub.status.busy": "2023-02-27T06:07:35.736625Z",
          "iopub.status.idle": "2023-02-27T06:07:35.745738Z",
          "shell.execute_reply": "2023-02-27T06:07:35.744228Z",
          "shell.execute_reply.started": "2023-02-27T06:07:35.736971Z"
        },
        "id": "z_YEjmVJggDn",
        "trusted": true
      },
      "outputs": [],
      "source": [
        "features = ['High', 'Low', 'Open', 'Close', 'Volume', 'Adj Close']"
      ]
    },
    {
      "cell_type": "code",
      "execution_count": null,
      "metadata": {
        "execution": {
          "iopub.execute_input": "2023-02-27T06:07:35.750321Z",
          "iopub.status.busy": "2023-02-27T06:07:35.747681Z",
          "iopub.status.idle": "2023-02-27T06:07:35.986630Z",
          "shell.execute_reply": "2023-02-27T06:07:35.985176Z",
          "shell.execute_reply.started": "2023-02-27T06:07:35.750261Z"
        },
        "id": "pQSb33-EggDn",
        "outputId": "0a41b901-add2-4290-e7b1-c0aba93e2539",
        "trusted": true
      },
      "outputs": [
        {
          "data": {
            "text/plain": [
              "<AxesSubplot:xlabel='Date', ylabel='High'>"
            ]
          },
          "execution_count": 81,
          "metadata": {},
          "output_type": "execute_result"
        },
        {
          "data": {
            "image/png": "[encoded data removed]",
            "text/plain": [
              "<Figure size 432x288 with 1 Axes>"
            ]
          },
          "metadata": {
            "needs_background": "light"
          },
          "output_type": "display_data"
        }
      ],
      "source": [
        "sns.lineplot(x='Date',y='High',data=dataset)"
      ]
    },
    {
      "cell_type": "markdown",
      "metadata": {
        "id": "N8XvZu7XggDn"
      },
      "source": [
        "\n",
        "# Applying ARIMA"
      ]
    },
    {
      "cell_type": "code",
      "execution_count": null,
      "metadata": {
        "execution": {
          "iopub.execute_input": "2023-02-27T06:07:35.988559Z",
          "iopub.status.busy": "2023-02-27T06:07:35.988216Z",
          "iopub.status.idle": "2023-02-27T06:07:35.995414Z",
          "shell.execute_reply": "2023-02-27T06:07:35.993837Z",
          "shell.execute_reply.started": "2023-02-27T06:07:35.988527Z"
        },
        "id": "zCTFn2WgggDn",
        "trusted": true
      },
      "outputs": [],
      "source": [
        "high_dataset = pd.DataFrame(data=dataset,columns=['High'])"
      ]
    },
    {
      "cell_type": "code",
      "execution_count": null,
      "metadata": {
        "execution": {
          "iopub.execute_input": "2023-02-27T06:07:35.999843Z",
          "iopub.status.busy": "2023-02-27T06:07:35.999372Z",
          "iopub.status.idle": "2023-02-27T06:07:36.007427Z",
          "shell.execute_reply": "2023-02-27T06:07:36.005893Z",
          "shell.execute_reply.started": "2023-02-27T06:07:35.999800Z"
        },
        "id": "ikxEqzQLggDn",
        "trusted": true
      },
      "outputs": [],
      "source": [
        "from statsmodels.tsa.arima.model import ARIMA"
      ]
    },
    {
      "cell_type": "code",
      "execution_count": null,
      "metadata": {
        "execution": {
          "iopub.execute_input": "2023-02-27T06:07:36.012006Z",
          "iopub.status.busy": "2023-02-27T06:07:36.010421Z",
          "iopub.status.idle": "2023-02-27T06:07:36.162006Z",
          "shell.execute_reply": "2023-02-27T06:07:36.161006Z",
          "shell.execute_reply.started": "2023-02-27T06:07:36.011965Z"
        },
        "id": "qlo65vnxggDn",
        "trusted": true
      },
      "outputs": [],
      "source": [
        "model = ARIMA(high_dataset, order=(4,2,0))\n",
        "model_fit = model.fit()"
      ]
    },
    {
      "cell_type": "code",
      "execution_count": null,
      "metadata": {
        "execution": {
          "iopub.execute_input": "2023-02-27T06:07:36.164402Z",
          "iopub.status.busy": "2023-02-27T06:07:36.163767Z",
          "iopub.status.idle": "2023-02-27T06:07:36.177888Z",
          "shell.execute_reply": "2023-02-27T06:07:36.176629Z",
          "shell.execute_reply.started": "2023-02-27T06:07:36.164366Z"
        },
        "id": "y62n8-9PggDn",
        "outputId": "0116e9b0-3144-4cc5-d2ad-2bc89cf192ae",
        "trusted": true
      },
      "outputs": [
        {
          "data": {
            "text/html": [
              "<div>\n",
              "<style scoped>\n",
              "    .dataframe tbody tr th:only-of-type {\n",
              "        vertical-align: middle;\n",
              "    }\n",
              "\n",
              "    .dataframe tbody tr th {\n",
              "        vertical-align: top;\n",
              "    }\n",
              "\n",
              "    .dataframe thead th {\n",
              "        text-align: right;\n",
              "    }\n",
              "</style>\n",
              "<table border=\"1\" class=\"dataframe\">\n",
              "  <thead>\n",
              "    <tr style=\"text-align: right;\">\n",
              "      <th></th>\n",
              "      <th>High</th>\n",
              "    </tr>\n",
              "  </thead>\n",
              "  <tbody>\n",
              "    <tr>\n",
              "      <th>0</th>\n",
              "      <td>2095.610107</td>\n",
              "    </tr>\n",
              "    <tr>\n",
              "      <th>1</th>\n",
              "      <td>2094.120117</td>\n",
              "    </tr>\n",
              "    <tr>\n",
              "      <th>2</th>\n",
              "      <td>2093.000000</td>\n",
              "    </tr>\n",
              "    <tr>\n",
              "      <th>3</th>\n",
              "      <td>2093.000000</td>\n",
              "    </tr>\n",
              "    <tr>\n",
              "      <th>4</th>\n",
              "      <td>2093.290039</td>\n",
              "    </tr>\n",
              "  </tbody>\n",
              "</table>\n",
              "</div>"
            ],
            "text/plain": [
              "          High\n",
              "0  2095.610107\n",
              "1  2094.120117\n",
              "2  2093.000000\n",
              "3  2093.000000\n",
              "4  2093.290039"
            ]
          },
          "execution_count": 85,
          "metadata": {},
          "output_type": "execute_result"
        }
      ],
      "source": [
        "high_dataset.head()"
      ]
    },
    {
      "cell_type": "code",
      "execution_count": null,
      "metadata": {
        "_kg_hide-output": true,
        "execution": {
          "iopub.execute_input": "2023-02-27T06:07:36.180969Z",
          "iopub.status.busy": "2023-02-27T06:07:36.179679Z",
          "iopub.status.idle": "2023-02-27T06:07:36.205371Z",
          "shell.execute_reply": "2023-02-27T06:07:36.204312Z",
          "shell.execute_reply.started": "2023-02-27T06:07:36.180838Z"
        },
        "id": "hW8b-1w6ggDn",
        "outputId": "9a29c48b-5500-4c5e-f0c7-f1715042a4b3",
        "trusted": true
      },
      "outputs": [
        {
          "name": "stdout",
          "output_type": "stream",
          "text": [
            "0          0.000000\n",
            "1       3143.420652\n",
            "2       2093.474317\n",
            "3       2092.119783\n",
            "4       2092.408034\n",
            "           ...     \n",
            "1821    3639.239218\n",
            "1822    3633.267262\n",
            "1823    3624.214459\n",
            "1824    3581.675246\n",
            "1825    3576.855096\n",
            "Name: predicted_mean, Length: 1826, dtype: float64\n"
          ]
        }
      ],
      "source": [
        "y_pred = model_fit.predict(0, len(high_dataset))\n",
        "print(y_pred)"
      ]
    },
    {
      "cell_type": "code",
      "execution_count": null,
      "metadata": {
        "execution": {
          "iopub.execute_input": "2023-02-27T06:07:36.207279Z",
          "iopub.status.busy": "2023-02-27T06:07:36.206871Z",
          "iopub.status.idle": "2023-02-27T06:07:36.503277Z",
          "shell.execute_reply": "2023-02-27T06:07:36.502299Z",
          "shell.execute_reply.started": "2023-02-27T06:07:36.207239Z"
        },
        "id": "F94ejkZbggDo",
        "outputId": "42c3b96b-5505-4d12-c2dd-891173bb464b",
        "trusted": true
      },
      "outputs": [
        {
          "data": {
            "text/plain": [
              "[<matplotlib.lines.Line2D at 0x7f308427e150>]"
            ]
          },
          "execution_count": 87,
          "metadata": {},
          "output_type": "execute_result"
        },
        {
          "data": {
            "image/png": "[encoded data removed]",
            "text/plain": [
              "<Figure size 1152x576 with 2 Axes>"
            ]
          },
          "metadata": {
            "needs_background": "light"
          },
          "output_type": "display_data"
        }
      ],
      "source": [
        "plt.figure(figsize=[16,8])\n",
        "plt.subplot(1,2,1)\n",
        "plt.title('Original')\n",
        "plt.plot(high_dataset)\n",
        "plt.subplot(1,2,2)\n",
        "plt.title('Model')\n",
        "plt.plot(y_pred)"
      ]
    }
  ],
  "metadata": {
    "colab": {
      "provenance": []
    },
    "kernelspec": {
      "display_name": "Python 3",
      "language": "python",
      "name": "python3"
    },
    "language_info": {
      "codemirror_mode": {
        "name": "ipython",
        "version": 3
      },
      "file_extension": ".py",
      "mimetype": "text/x-python",
      "name": "python",
      "nbconvert_exporter": "python",
      "pygments_lexer": "ipython3",
      "version": "3.9.12"
    }
  },
  "nbformat": 4,
  "nbformat_minor": 0
}
